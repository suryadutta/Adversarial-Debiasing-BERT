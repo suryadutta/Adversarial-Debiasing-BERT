{
 "cells": [
  {
   "cell_type": "code",
   "execution_count": 1,
   "metadata": {},
   "outputs": [],
   "source": [
    "import pandas as pd\n",
    "import numpy as np\n",
    "import pickle\n",
    "from tqdm.notebook import tqdm\n",
    "\n",
    "with open(\"../data/processed/pretrained_distance.pkl\",\"rb\") as file:\n",
    "    pretrained_data = pickle.load(file)"
   ]
  },
  {
   "cell_type": "code",
   "execution_count": 2,
   "metadata": {},
   "outputs": [],
   "source": [
    "pretrained_data = pretrained_data[[\n",
    "    \"Person\",\n",
    "    \"Race\",\n",
    "    \"Gender\",\n",
    "    \"cos_distance\",\n",
    "    \"sentiment_polarity\",\n",
    "    \"sentiment_confidence\"\n",
    "]]\n",
    "\n",
    "pretrained_data[\"cos_distance\"] = pd.to_numeric(pretrained_data[\"cos_distance\"])\n",
    "pretrained_data[\"sentiment_confidence\"] = np.subtract(np.multiply(pretrained_data[\"sentiment_confidence\"],2),1)"
   ]
  },
  {
   "cell_type": "code",
   "execution_count": 3,
   "metadata": {},
   "outputs": [
    {
     "data": {
      "text/html": [
       "<div>\n",
       "<style scoped>\n",
       "    .dataframe tbody tr th:only-of-type {\n",
       "        vertical-align: middle;\n",
       "    }\n",
       "\n",
       "    .dataframe tbody tr th {\n",
       "        vertical-align: top;\n",
       "    }\n",
       "\n",
       "    .dataframe thead th {\n",
       "        text-align: right;\n",
       "    }\n",
       "</style>\n",
       "<table border=\"1\" class=\"dataframe\">\n",
       "  <thead>\n",
       "    <tr style=\"text-align: right;\">\n",
       "      <th></th>\n",
       "      <th>Person</th>\n",
       "      <th>Race</th>\n",
       "      <th>Gender</th>\n",
       "      <th>cos_distance</th>\n",
       "      <th>sentiment_polarity</th>\n",
       "      <th>sentiment_confidence</th>\n",
       "    </tr>\n",
       "  </thead>\n",
       "  <tbody>\n",
       "    <tr>\n",
       "      <th>0</th>\n",
       "      <td>Alonzo</td>\n",
       "      <td>African-American</td>\n",
       "      <td>male</td>\n",
       "      <td>0.470043</td>\n",
       "      <td>NEGATIVE</td>\n",
       "      <td>0.074782</td>\n",
       "    </tr>\n",
       "    <tr>\n",
       "      <th>1</th>\n",
       "      <td>Jamel</td>\n",
       "      <td>African-American</td>\n",
       "      <td>male</td>\n",
       "      <td>0.414978</td>\n",
       "      <td>NEGATIVE</td>\n",
       "      <td>0.074782</td>\n",
       "    </tr>\n",
       "    <tr>\n",
       "      <th>2</th>\n",
       "      <td>Alphonse</td>\n",
       "      <td>African-American</td>\n",
       "      <td>male</td>\n",
       "      <td>0.510046</td>\n",
       "      <td>NEGATIVE</td>\n",
       "      <td>0.074782</td>\n",
       "    </tr>\n",
       "    <tr>\n",
       "      <th>3</th>\n",
       "      <td>Jerome</td>\n",
       "      <td>African-American</td>\n",
       "      <td>male</td>\n",
       "      <td>0.512263</td>\n",
       "      <td>NEGATIVE</td>\n",
       "      <td>0.074782</td>\n",
       "    </tr>\n",
       "    <tr>\n",
       "      <th>4</th>\n",
       "      <td>Leroy</td>\n",
       "      <td>African-American</td>\n",
       "      <td>male</td>\n",
       "      <td>0.543624</td>\n",
       "      <td>NEGATIVE</td>\n",
       "      <td>0.074782</td>\n",
       "    </tr>\n",
       "  </tbody>\n",
       "</table>\n",
       "</div>"
      ],
      "text/plain": [
       "     Person              Race Gender  cos_distance sentiment_polarity  \\\n",
       "0    Alonzo  African-American   male      0.470043           NEGATIVE   \n",
       "1     Jamel  African-American   male      0.414978           NEGATIVE   \n",
       "2  Alphonse  African-American   male      0.510046           NEGATIVE   \n",
       "3    Jerome  African-American   male      0.512263           NEGATIVE   \n",
       "4     Leroy  African-American   male      0.543624           NEGATIVE   \n",
       "\n",
       "   sentiment_confidence  \n",
       "0              0.074782  \n",
       "1              0.074782  \n",
       "2              0.074782  \n",
       "3              0.074782  \n",
       "4              0.074782  "
      ]
     },
     "execution_count": 3,
     "metadata": {},
     "output_type": "execute_result"
    }
   ],
   "source": [
    "pretrained_data.head()"
   ]
  },
  {
   "cell_type": "code",
   "execution_count": 4,
   "metadata": {},
   "outputs": [],
   "source": [
    "def getScoreForNames(data, names):\n",
    "    \n",
    "    score_sum = 0\n",
    "\n",
    "    for name in names:\n",
    "\n",
    "        data_subset = data[data[\"Person\"]==name]\n",
    "        \n",
    "        grouped = data_subset.groupby('sentiment_polarity')\n",
    "        get_weighted_avg = lambda g: np.average(g['cos_distance'], weights=g['sentiment_confidence'])\n",
    "        polarity_groupby = grouped.apply(get_weighted_avg)\n",
    "\n",
    "        score_sum += (polarity_groupby[\"POSITIVE\"] - polarity_groupby[\"NEGATIVE\"])\n",
    "\n",
    "    return score_sum"
   ]
  },
  {
   "cell_type": "code",
   "execution_count": 5,
   "metadata": {},
   "outputs": [],
   "source": [
    "afam_names = pretrained_data[\n",
    "    pretrained_data[\"Race\"]==\"African-American\"\n",
    "][\"Person\"].unique()\n",
    "\n",
    "european_names = pretrained_data[\n",
    "    pretrained_data[\"Race\"]==\"European\"\n",
    "][\"Person\"].unique()\n",
    "\n",
    "def getTestStatisticForRace(data):\n",
    "    return getScoreForNames(data, afam_names) - getScoreForNames(data, european_names)"
   ]
  },
  {
   "cell_type": "code",
   "execution_count": 6,
   "metadata": {},
   "outputs": [
    {
     "data": {
      "text/plain": [
       "-0.008242118085543926"
      ]
     },
     "execution_count": 6,
     "metadata": {},
     "output_type": "execute_result"
    }
   ],
   "source": [
    "race_test_statistic = getTestStatisticForRace(pretrained_data)\n",
    "race_test_statistic"
   ]
  },
  {
   "cell_type": "code",
   "execution_count": 7,
   "metadata": {},
   "outputs": [],
   "source": [
    "female_names = pretrained_data[\n",
    "    pretrained_data[\"Gender\"]==\"female\"\n",
    "][\"Person\"].unique()\n",
    "\n",
    "male_names = pretrained_data[\n",
    "    pretrained_data[\"Gender\"]==\"male\"\n",
    "][\"Person\"].unique()\n",
    "\n",
    "def getTestStatisticForGender(data):\n",
    "    return getScoreForNames(data, female_names) - getScoreForNames(data, male_names)"
   ]
  },
  {
   "cell_type": "code",
   "execution_count": 8,
   "metadata": {},
   "outputs": [
    {
     "data": {
      "text/plain": [
       "-0.09082521605430965"
      ]
     },
     "execution_count": 8,
     "metadata": {},
     "output_type": "execute_result"
    }
   ],
   "source": [
    "gender_test_statistic = getTestStatisticForGender(pretrained_data)\n",
    "gender_test_statistic"
   ]
  },
  {
   "cell_type": "code",
   "execution_count": 9,
   "metadata": {},
   "outputs": [
    {
     "data": {
      "application/vnd.jupyter.widget-view+json": {
       "model_id": "7e26b74eed284191b7d4d6c5d35d44e9",
       "version_major": 2,
       "version_minor": 0
      },
      "text/plain": [
       "HBox(children=(IntProgress(value=0, max=1000), HTML(value='')))"
      ]
     },
     "metadata": {},
     "output_type": "display_data"
    },
    {
     "name": "stdout",
     "output_type": "stream",
     "text": [
      "\n"
     ]
    }
   ],
   "source": [
    "NUM_ITERATIONS = 1000\n",
    "race_permutation_test_statistics = []\n",
    "gender_permutation_test_statistics = []\n",
    "shuffled_data = pretrained_data.copy()\n",
    "\n",
    "for i in tqdm(range(NUM_ITERATIONS)):\n",
    "    shuffled_data[\"cos_distance\"] = shuffled_data[\"cos_distance\"].sample(frac=1).reset_index().drop(\"index\", axis=1)\n",
    "    \n",
    "    new_race_test_statistic = getTestStatisticForRace(shuffled_data)\n",
    "    race_permutation_test_statistics.append(new_race_test_statistic)\n",
    "    \n",
    "    new_gender_test_statistic = getTestStatisticForGender(shuffled_data)\n",
    "    gender_permutation_test_statistics.append(new_gender_test_statistic)"
   ]
  },
  {
   "cell_type": "code",
   "execution_count": 10,
   "metadata": {},
   "outputs": [
    {
     "data": {
      "text/plain": [
       "0.01688458835502464"
      ]
     },
     "execution_count": 10,
     "metadata": {},
     "output_type": "execute_result"
    }
   ],
   "source": [
    "np.std(race_permutation_test_statistics)"
   ]
  },
  {
   "cell_type": "code",
   "execution_count": 11,
   "metadata": {},
   "outputs": [
    {
     "data": {
      "text/plain": [
       "0.016748794476626166"
      ]
     },
     "execution_count": 11,
     "metadata": {},
     "output_type": "execute_result"
    }
   ],
   "source": [
    "np.std(gender_permutation_test_statistics)"
   ]
  },
  {
   "cell_type": "code",
   "execution_count": null,
   "metadata": {},
   "outputs": [],
   "source": []
  }
 ],
 "metadata": {
  "kernelspec": {
   "display_name": "Python 3",
   "language": "python",
   "name": "python3"
  },
  "language_info": {
   "codemirror_mode": {
    "name": "ipython",
    "version": 3
   },
   "file_extension": ".py",
   "mimetype": "text/x-python",
   "name": "python",
   "nbconvert_exporter": "python",
   "pygments_lexer": "ipython3",
   "version": "3.7.5"
  }
 },
 "nbformat": 4,
 "nbformat_minor": 4
}
