{
 "cells": [
  {
   "cell_type": "code",
   "execution_count": 1,
   "metadata": {},
   "outputs": [],
   "source": [
    "from importlib import reload\n",
    "import sys\n",
    "\n",
    "src_path =   '../src' # change as needed\n",
    "sys.path.insert(0,src_path)\n",
    "\n",
    "max_length = 128\n",
    "\n",
    "train = True\n",
    "debias = True"
   ]
  },
  {
   "cell_type": "code",
   "execution_count": 2,
   "metadata": {},
   "outputs": [
    {
     "name": "stderr",
     "output_type": "stream",
     "text": [
      "INFO:absl:Using /tmp/tfhub_modules to cache modules.\n",
      "100%|██████████| 30000/30000 [00:08<00:00, 3354.24it/s]\n"
     ]
    },
    {
     "name": "stdout",
     "output_type": "stream",
     "text": [
      "        tag  cat  occurences\n",
      "0    B-MISC    0          58\n",
      "1     I-LOC    1       25185\n",
      "2    I-MISC    2       10213\n",
      "3     I-ORG    3       18042\n",
      "4     I-PER    4       83183\n",
      "5         O    5      520930\n",
      "6  [nerCLS]    6       30000\n",
      "7  [nerPAD]    7     2960644\n",
      "8  [nerSEP]    8       30000\n",
      "9    [nerX]    9      161745\n",
      "\n",
      "                tag  cat  occurences\n",
      "0  AFRICAN-AMERICAN    0       14932\n",
      "1          EUROPEAN    1       15068\n",
      "2         [raceCLS]    2       30000\n",
      "3         [racePAD]    3     2960644\n",
      "4         [raceSEP]    4       30000\n",
      "5           [raceX]    5      789356\n",
      "\n",
      "           tag  cat  occurences\n",
      "0       FEMALE    0       15019\n",
      "1         MALE    1       14981\n",
      "2  [genderCLS]    2       30000\n",
      "3  [genderPAD]    3     2960644\n",
      "4  [genderSEP]    4       30000\n",
      "5    [genderX]    5      789356\n",
      "\n"
     ]
    }
   ],
   "source": [
    "import data_generator;reload(data_generator)\n",
    "\n",
    "train_data, val_data, test_data = data_generator.GetData(max_length, sample=10000)"
   ]
  },
  {
   "cell_type": "code",
   "execution_count": 3,
   "metadata": {
    "scrolled": false
   },
   "outputs": [
    {
     "name": "stdout",
     "output_type": "stream",
     "text": [
      "Model: \"model\"\n",
      "__________________________________________________________________________________________________\n",
      "Layer (type)                    Output Shape         Param #     Connected to                     \n",
      "==================================================================================================\n",
      "input_ids (InputLayer)          [(None, 128)]        0                                            \n",
      "__________________________________________________________________________________________________\n",
      "input_masks (InputLayer)        [(None, 128)]        0                                            \n",
      "__________________________________________________________________________________________________\n",
      "segment_ids (InputLayer)        [(None, 128)]        0                                            \n",
      "__________________________________________________________________________________________________\n",
      "bert_layer (BertLayer)          (None, None, 768)    108931396   input_ids[0][0]                  \n",
      "                                                                 input_masks[0][0]                \n",
      "                                                                 segment_ids[0][0]                \n",
      "__________________________________________________________________________________________________\n",
      "ner (Dense)                     (None, None, 10)     7690        bert_layer[0][0]                 \n",
      "__________________________________________________________________________________________________\n",
      "ner_labels_true (InputLayer)    [(None, 128, 10)]    0                                            \n",
      "__________________________________________________________________________________________________\n",
      "reshape (Reshape)               (None, 128, 10)      0           ner[0][0]                        \n",
      "__________________________________________________________________________________________________\n",
      "concatenate (Concatenate)       (None, 128, 20)      0           ner_labels_true[0][0]            \n",
      "                                                                 reshape[0][0]                    \n",
      "__________________________________________________________________________________________________\n",
      "genderDense1 (Dense)            (None, 128, 30)      630         concatenate[0][0]                \n",
      "__________________________________________________________________________________________________\n",
      "raceDense1 (Dense)              (None, 128, 30)      630         concatenate[0][0]                \n",
      "__________________________________________________________________________________________________\n",
      "dropout (Dropout)               (None, 128, 30)      0           genderDense1[0][0]               \n",
      "__________________________________________________________________________________________________\n",
      "dropout_2 (Dropout)             (None, 128, 30)      0           raceDense1[0][0]                 \n",
      "__________________________________________________________________________________________________\n",
      "genderDense2 (Dense)            (None, 128, 30)      930         dropout[0][0]                    \n",
      "__________________________________________________________________________________________________\n",
      "raceDense2 (Dense)              (None, 128, 30)      930         dropout_2[0][0]                  \n",
      "__________________________________________________________________________________________________\n",
      "dropout_1 (Dropout)             (None, 128, 30)      0           genderDense2[0][0]               \n",
      "__________________________________________________________________________________________________\n",
      "dropout_3 (Dropout)             (None, 128, 30)      0           raceDense2[0][0]                 \n",
      "__________________________________________________________________________________________________\n",
      "genderPred (Dense)              (None, 128, 6)       186         dropout_1[0][0]                  \n",
      "__________________________________________________________________________________________________\n",
      "racePred (Dense)                (None, 128, 6)       186         dropout_3[0][0]                  \n",
      "==================================================================================================\n",
      "Total params: 108,942,578\n",
      "Trainable params: 28,362,670\n",
      "Non-trainable params: 80,579,908\n",
      "__________________________________________________________________________________________________\n"
     ]
    }
   ],
   "source": [
    "import model_utils; reload(model_utils)\n",
    "\n",
    "model = model_utils.NER(max_length)\n",
    "    \n",
    "model.generate(bert_train_layers=4)"
   ]
  },
  {
   "cell_type": "code",
   "execution_count": null,
   "metadata": {
    "scrolled": false
   },
   "outputs": [
    {
     "data": {
      "application/vnd.jupyter.widget-view+json": {
       "model_id": "829c8917e8834cc3b21e6039a062ff7e",
       "version_major": 2,
       "version_minor": 0
      },
      "text/plain": [
       "HBox(children=(IntProgress(value=0, max=8), HTML(value='')))"
      ]
     },
     "metadata": {},
     "output_type": "display_data"
    },
    {
     "data": {
      "application/vnd.jupyter.widget-view+json": {
       "model_id": "a2bf75afe42e4de8adfa99da707baf08",
       "version_major": 2,
       "version_minor": 0
      },
      "text/plain": [
       "HBox(children=(IntProgress(value=0, max=312), HTML(value='')))"
      ]
     },
     "metadata": {},
     "output_type": "display_data"
    },
    {
     "name": "stdout",
     "output_type": "stream",
     "text": [
      "\n",
      "val_acc_ner: 0.98; val_acc_ner_non_other: 0.93;  val_acc_gender: 0.50; val_acc_race: 0.50\n"
     ]
    },
    {
     "data": {
      "application/vnd.jupyter.widget-view+json": {
       "model_id": "f5f23132bfdf4b0496f8956178e98dba",
       "version_major": 2,
       "version_minor": 0
      },
      "text/plain": [
       "HBox(children=(IntProgress(value=0, max=312), HTML(value='')))"
      ]
     },
     "metadata": {},
     "output_type": "display_data"
    },
    {
     "name": "stdout",
     "output_type": "stream",
     "text": [
      "\n",
      "val_acc_ner: 0.99; val_acc_ner_non_other: 0.95;  val_acc_gender: 0.50; val_acc_race: 0.50\n"
     ]
    },
    {
     "data": {
      "application/vnd.jupyter.widget-view+json": {
       "model_id": "282e9f6944ca41c2987079d97217bfad",
       "version_major": 2,
       "version_minor": 0
      },
      "text/plain": [
       "HBox(children=(IntProgress(value=0, max=312), HTML(value='')))"
      ]
     },
     "metadata": {},
     "output_type": "display_data"
    },
    {
     "name": "stdout",
     "output_type": "stream",
     "text": [
      "\n",
      "val_acc_ner: 0.99; val_acc_ner_non_other: 0.96;  val_acc_gender: 0.50; val_acc_race: 0.50\n"
     ]
    },
    {
     "data": {
      "application/vnd.jupyter.widget-view+json": {
       "model_id": "90621bb9a12246949052c40af696593d",
       "version_major": 2,
       "version_minor": 0
      },
      "text/plain": [
       "HBox(children=(IntProgress(value=0, max=312), HTML(value='')))"
      ]
     },
     "metadata": {},
     "output_type": "display_data"
    },
    {
     "name": "stdout",
     "output_type": "stream",
     "text": [
      "\n",
      "val_acc_ner: 0.99; val_acc_ner_non_other: 0.96;  val_acc_gender: 0.50; val_acc_race: 0.50\n"
     ]
    },
    {
     "data": {
      "application/vnd.jupyter.widget-view+json": {
       "model_id": "d29fc01921aa4c65a3377051e685d55c",
       "version_major": 2,
       "version_minor": 0
      },
      "text/plain": [
       "HBox(children=(IntProgress(value=0, max=312), HTML(value='')))"
      ]
     },
     "metadata": {},
     "output_type": "display_data"
    },
    {
     "name": "stdout",
     "output_type": "stream",
     "text": [
      "\n",
      "val_acc_ner: 0.99; val_acc_ner_non_other: 0.96;  val_acc_gender: 0.50; val_acc_race: 0.50\n"
     ]
    },
    {
     "data": {
      "application/vnd.jupyter.widget-view+json": {
       "model_id": "d4e552b870d64f8385ce86d27d632395",
       "version_major": 2,
       "version_minor": 0
      },
      "text/plain": [
       "HBox(children=(IntProgress(value=0, max=312), HTML(value='')))"
      ]
     },
     "metadata": {},
     "output_type": "display_data"
    },
    {
     "name": "stdout",
     "output_type": "stream",
     "text": [
      "\n",
      "val_acc_ner: 0.99; val_acc_ner_non_other: 0.97;  val_acc_gender: 0.50; val_acc_race: 0.50\n"
     ]
    },
    {
     "data": {
      "application/vnd.jupyter.widget-view+json": {
       "model_id": "6b581922782a4f4cbe19c303e733defb",
       "version_major": 2,
       "version_minor": 0
      },
      "text/plain": [
       "HBox(children=(IntProgress(value=0, max=312), HTML(value='')))"
      ]
     },
     "metadata": {},
     "output_type": "display_data"
    },
    {
     "name": "stdout",
     "output_type": "stream",
     "text": [
      "\n",
      "val_acc_ner: 0.99; val_acc_ner_non_other: 0.96;  val_acc_gender: 0.50; val_acc_race: 0.50\n"
     ]
    },
    {
     "data": {
      "application/vnd.jupyter.widget-view+json": {
       "model_id": "5785d7a0aeb04d628e0cdf814ea0dee0",
       "version_major": 2,
       "version_minor": 0
      },
      "text/plain": [
       "HBox(children=(IntProgress(value=0, max=312), HTML(value='')))"
      ]
     },
     "metadata": {},
     "output_type": "display_data"
    }
   ],
   "source": [
    "if train:\n",
    "    model.fit(\n",
    "        train_data,\n",
    "        val_data,\n",
    "        epochs=8,\n",
    "        batch_size=32,\n",
    "        debias=debias\n",
    "    ) "
   ]
  },
  {
   "cell_type": "code",
   "execution_count": null,
   "metadata": {},
   "outputs": [],
   "source": [
    "model.score(test_data)"
   ]
  },
  {
   "cell_type": "code",
   "execution_count": null,
   "metadata": {},
   "outputs": [],
   "source": [
    "bias = model.getBiasedPValues(test_data, num_iterations=10000)"
   ]
  },
  {
   "cell_type": "code",
   "execution_count": null,
   "metadata": {},
   "outputs": [],
   "source": [
    "bias"
   ]
  },
  {
   "cell_type": "code",
   "execution_count": null,
   "metadata": {},
   "outputs": [],
   "source": []
  },
  {
   "cell_type": "code",
   "execution_count": null,
   "metadata": {},
   "outputs": [],
   "source": []
  }
 ],
 "metadata": {
  "kernelspec": {
   "display_name": "Python 3",
   "language": "python",
   "name": "python3"
  },
  "language_info": {
   "codemirror_mode": {
    "name": "ipython",
    "version": 3
   },
   "file_extension": ".py",
   "mimetype": "text/x-python",
   "name": "python",
   "nbconvert_exporter": "python",
   "pygments_lexer": "ipython3",
   "version": "3.7.5"
  }
 },
 "nbformat": 4,
 "nbformat_minor": 4
}
