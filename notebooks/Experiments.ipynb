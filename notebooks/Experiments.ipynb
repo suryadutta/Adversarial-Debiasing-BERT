{
 "cells": [
  {
   "cell_type": "code",
   "execution_count": 1,
   "metadata": {},
   "outputs": [],
   "source": [
    "from importlib import reload\n",
    "import sys\n",
    "\n",
    "src_path =   '../src' # change as needed\n",
    "sys.path.insert(0,src_path)\n",
    "\n",
    "max_length = 128\n",
    "\n",
    "train = True\n",
    "debias = True"
   ]
  },
  {
   "cell_type": "code",
   "execution_count": 2,
   "metadata": {},
   "outputs": [
    {
     "name": "stderr",
     "output_type": "stream",
     "text": [
      "INFO:absl:Using /tmp/tfhub_modules to cache modules.\n",
      "INFO:absl:Downloading TF-Hub Module 'https://tfhub.dev/google/bert_cased_L-12_H-768_A-12/1'.\n",
      "INFO:absl:Downloading https://tfhub.dev/google/bert_cased_L-12_H-768_A-12/1: 191.62MB\n",
      "INFO:absl:Downloading https://tfhub.dev/google/bert_cased_L-12_H-768_A-12/1: 371.62MB\n",
      "INFO:absl:Downloaded https://tfhub.dev/google/bert_cased_L-12_H-768_A-12/1, Total size: 417.36MB\n",
      "INFO:absl:Downloaded TF-Hub Module 'https://tfhub.dev/google/bert_cased_L-12_H-768_A-12/1'.\n",
      "100%|██████████| 150000/150000 [00:47<00:00, 3131.69it/s]\n"
     ]
    },
    {
     "name": "stdout",
     "output_type": "stream",
     "text": [
      "        tag  cat  occurences\n",
      "0    B-MISC    0         333\n",
      "1     I-LOC    1      125808\n",
      "2    I-MISC    2       52182\n",
      "3     I-ORG    3       90601\n",
      "4     I-PER    4      413873\n",
      "5         O    5     2620281\n",
      "6  [nerCLS]    6      150000\n",
      "7  [nerPAD]    7    14787985\n",
      "8  [nerSEP]    8      150000\n",
      "9    [nerX]    9      808937\n",
      "\n",
      "                tag  cat  occurences\n",
      "0  AFRICAN-AMERICAN    0       74886\n",
      "1          EUROPEAN    1       75114\n",
      "2         [raceCLS]    2      150000\n",
      "3         [racePAD]    3    14787985\n",
      "4         [raceSEP]    4      150000\n",
      "5           [raceX]    5     3962015\n",
      "\n",
      "           tag  cat  occurences\n",
      "0       FEMALE    0       74749\n",
      "1         MALE    1       75251\n",
      "2  [genderCLS]    2      150000\n",
      "3  [genderPAD]    3    14787985\n",
      "4  [genderSEP]    4      150000\n",
      "5    [genderX]    5     3962015\n",
      "\n"
     ]
    }
   ],
   "source": [
    "import data_generator;reload(data_generator)\n",
    "\n",
    "train_data, val_data, test_data = data_generator.GetData(max_length, sample=50000)"
   ]
  },
  {
   "cell_type": "code",
   "execution_count": 3,
   "metadata": {
    "scrolled": false
   },
   "outputs": [
    {
     "name": "stdout",
     "output_type": "stream",
     "text": [
      "Model: \"model\"\n",
      "__________________________________________________________________________________________________\n",
      "Layer (type)                    Output Shape         Param #     Connected to                     \n",
      "==================================================================================================\n",
      "input_ids (InputLayer)          [(None, 128)]        0                                            \n",
      "__________________________________________________________________________________________________\n",
      "input_masks (InputLayer)        [(None, 128)]        0                                            \n",
      "__________________________________________________________________________________________________\n",
      "segment_ids (InputLayer)        [(None, 128)]        0                                            \n",
      "__________________________________________________________________________________________________\n",
      "bert_layer (BertLayer)          (None, None, 768)    108931396   input_ids[0][0]                  \n",
      "                                                                 input_masks[0][0]                \n",
      "                                                                 segment_ids[0][0]                \n",
      "__________________________________________________________________________________________________\n",
      "ner (Dense)                     (None, None, 10)     7690        bert_layer[0][0]                 \n",
      "__________________________________________________________________________________________________\n",
      "ner_labels_true (InputLayer)    [(None, 128, 10)]    0                                            \n",
      "__________________________________________________________________________________________________\n",
      "reshape (Reshape)               (None, 128, 10)      0           ner[0][0]                        \n",
      "__________________________________________________________________________________________________\n",
      "concatenate (Concatenate)       (None, 128, 20)      0           ner_labels_true[0][0]            \n",
      "                                                                 reshape[0][0]                    \n",
      "__________________________________________________________________________________________________\n",
      "genderDense (Dense)             (None, 128, 30)      630         concatenate[0][0]                \n",
      "__________________________________________________________________________________________________\n",
      "raceDense (Dense)               (None, 128, 30)      630         concatenate[0][0]                \n",
      "__________________________________________________________________________________________________\n",
      "genderPred (Dense)              (None, 128, 6)       186         genderDense[0][0]                \n",
      "__________________________________________________________________________________________________\n",
      "racePred (Dense)                (None, 128, 6)       186         raceDense[0][0]                  \n",
      "==================================================================================================\n",
      "Total params: 108,940,718\n",
      "Trainable params: 28,360,810\n",
      "Non-trainable params: 80,579,908\n",
      "__________________________________________________________________________________________________\n"
     ]
    }
   ],
   "source": [
    "import model_utils; reload(model_utils)\n",
    "\n",
    "model = model_utils.NER(max_length)\n",
    "    \n",
    "model.generate(bert_train_layers=4)"
   ]
  },
  {
   "cell_type": "code",
   "execution_count": 4,
   "metadata": {
    "scrolled": false
   },
   "outputs": [
    {
     "data": {
      "application/vnd.jupyter.widget-view+json": {
       "model_id": "68f3211cfa9943f085a8d0aef0b734d4",
       "version_major": 2,
       "version_minor": 0
      },
      "text/plain": [
       "HBox(children=(IntProgress(value=0, max=8), HTML(value='')))"
      ]
     },
     "metadata": {},
     "output_type": "display_data"
    },
    {
     "data": {
      "application/vnd.jupyter.widget-view+json": {
       "model_id": "f7c6ce6d399d4bb881d3d63ee6814767",
       "version_major": 2,
       "version_minor": 0
      },
      "text/plain": [
       "HBox(children=(IntProgress(value=0, max=1562), HTML(value='')))"
      ]
     },
     "metadata": {},
     "output_type": "display_data"
    },
    {
     "name": "stdout",
     "output_type": "stream",
     "text": [
      "\n",
      "val_acc_ner: 0.99; val_acc_ner_non_other: 0.96;  val_acc_gender: 0.50; val_acc_race: 0.50\n"
     ]
    },
    {
     "data": {
      "application/vnd.jupyter.widget-view+json": {
       "model_id": "7f4f50bbcc554dad8aadf39f20f3f2a5",
       "version_major": 2,
       "version_minor": 0
      },
      "text/plain": [
       "HBox(children=(IntProgress(value=0, max=1562), HTML(value='')))"
      ]
     },
     "metadata": {},
     "output_type": "display_data"
    },
    {
     "name": "stdout",
     "output_type": "stream",
     "text": [
      "\n",
      "val_acc_ner: 0.99; val_acc_ner_non_other: 0.96;  val_acc_gender: 0.50; val_acc_race: 0.50\n"
     ]
    },
    {
     "data": {
      "application/vnd.jupyter.widget-view+json": {
       "model_id": "57d918c1b4ad47768c518440181391d6",
       "version_major": 2,
       "version_minor": 0
      },
      "text/plain": [
       "HBox(children=(IntProgress(value=0, max=1562), HTML(value='')))"
      ]
     },
     "metadata": {},
     "output_type": "display_data"
    },
    {
     "name": "stdout",
     "output_type": "stream",
     "text": [
      "\n",
      "val_acc_ner: 0.99; val_acc_ner_non_other: 0.96;  val_acc_gender: 0.50; val_acc_race: 0.50\n"
     ]
    },
    {
     "data": {
      "application/vnd.jupyter.widget-view+json": {
       "model_id": "f7b74be263d94263ade53127c422b37b",
       "version_major": 2,
       "version_minor": 0
      },
      "text/plain": [
       "HBox(children=(IntProgress(value=0, max=1562), HTML(value='')))"
      ]
     },
     "metadata": {},
     "output_type": "display_data"
    },
    {
     "name": "stdout",
     "output_type": "stream",
     "text": [
      "\n",
      "val_acc_ner: 0.99; val_acc_ner_non_other: 0.96;  val_acc_gender: 0.50; val_acc_race: 0.50\n"
     ]
    },
    {
     "data": {
      "application/vnd.jupyter.widget-view+json": {
       "model_id": "0217f6ca462246ac85307f464dadb871",
       "version_major": 2,
       "version_minor": 0
      },
      "text/plain": [
       "HBox(children=(IntProgress(value=0, max=1562), HTML(value='')))"
      ]
     },
     "metadata": {},
     "output_type": "display_data"
    },
    {
     "name": "stdout",
     "output_type": "stream",
     "text": [
      "\n",
      "val_acc_ner: 0.99; val_acc_ner_non_other: 0.96;  val_acc_gender: 0.50; val_acc_race: 0.50\n"
     ]
    },
    {
     "data": {
      "application/vnd.jupyter.widget-view+json": {
       "model_id": "7e663e769fee4ba6a1bba48d227133f0",
       "version_major": 2,
       "version_minor": 0
      },
      "text/plain": [
       "HBox(children=(IntProgress(value=0, max=1562), HTML(value='')))"
      ]
     },
     "metadata": {},
     "output_type": "display_data"
    },
    {
     "name": "stdout",
     "output_type": "stream",
     "text": [
      "\n",
      "val_acc_ner: 0.99; val_acc_ner_non_other: 0.96;  val_acc_gender: 0.50; val_acc_race: 0.50\n"
     ]
    },
    {
     "data": {
      "application/vnd.jupyter.widget-view+json": {
       "model_id": "9e0349dc0796427689ebc29358cb979d",
       "version_major": 2,
       "version_minor": 0
      },
      "text/plain": [
       "HBox(children=(IntProgress(value=0, max=1562), HTML(value='')))"
      ]
     },
     "metadata": {},
     "output_type": "display_data"
    },
    {
     "name": "stdout",
     "output_type": "stream",
     "text": [
      "\n",
      "val_acc_ner: 0.99; val_acc_ner_non_other: 0.96;  val_acc_gender: 0.50; val_acc_race: 0.50\n"
     ]
    },
    {
     "data": {
      "application/vnd.jupyter.widget-view+json": {
       "model_id": "a7a7e50e56764f0ea85637979bbd53f3",
       "version_major": 2,
       "version_minor": 0
      },
      "text/plain": [
       "HBox(children=(IntProgress(value=0, max=1562), HTML(value='')))"
      ]
     },
     "metadata": {},
     "output_type": "display_data"
    },
    {
     "name": "stdout",
     "output_type": "stream",
     "text": [
      "\n",
      "val_acc_ner: 0.99; val_acc_ner_non_other: 0.96;  val_acc_gender: 0.50; val_acc_race: 0.50\n",
      "\n"
     ]
    }
   ],
   "source": [
    "if train:\n",
    "    model.fit(\n",
    "        train_data,\n",
    "        val_data,\n",
    "        epochs=8,\n",
    "        batch_size=32,\n",
    "        debias=debias\n",
    "    ) "
   ]
  },
  {
   "cell_type": "code",
   "execution_count": 5,
   "metadata": {},
   "outputs": [
    {
     "name": "stdout",
     "output_type": "stream",
     "text": [
      "acc_ner: 0.99; acc_ner_non_other: 0.95\n"
     ]
    },
    {
     "data": {
      "text/plain": [
       "array([[     0,      0,     34,     60,      0,     34],\n",
       "       [     0,  41029,   1230,   1118,    149,    187],\n",
       "       [     0,    779,  11955,    395,    126,    875],\n",
       "       [     0,   2252,    782,  31653,    560,   1429],\n",
       "       [     0,    143,     78,    271, 147878,    732],\n",
       "       [     0,    185,    633,    799,    486, 848260]], dtype=int32)"
      ]
     },
     "execution_count": 5,
     "metadata": {},
     "output_type": "execute_result"
    },
    {
     "data": {
      "image/png": "[encoded data removed]",
      "text/plain": [
       "<Figure size 432x288 with 1 Axes>"
      ]
     },
     "metadata": {
      "needs_background": "light"
     },
     "output_type": "display_data"
    }
   ],
   "source": [
    "model.score(test_data)"
   ]
  },
  {
   "cell_type": "code",
   "execution_count": 6,
   "metadata": {},
   "outputs": [
    {
     "data": {
      "application/vnd.jupyter.widget-view+json": {
       "model_id": "d730f5fd64fd444cb21be6ae7776eba8",
       "version_major": 2,
       "version_minor": 0
      },
      "text/plain": [
       "HBox(children=(IntProgress(value=1, bar_style='info', max=1), HTML(value='')))"
      ]
     },
     "metadata": {},
     "output_type": "display_data"
    },
    {
     "name": "stdout",
     "output_type": "stream",
     "text": [
      "\n"
     ]
    },
    {
     "data": {
      "application/vnd.jupyter.widget-view+json": {
       "model_id": "30cbdab18bf74c01b0c967766eb51806",
       "version_major": 2,
       "version_minor": 0
      },
      "text/plain": [
       "HBox(children=(IntProgress(value=0, max=10000), HTML(value='')))"
      ]
     },
     "metadata": {},
     "output_type": "display_data"
    },
    {
     "name": "stdout",
     "output_type": "stream",
     "text": [
      "\n"
     ]
    }
   ],
   "source": [
    "bias = model.getBiasedPValues(test_data, num_iterations=10000)"
   ]
  },
  {
   "cell_type": "code",
   "execution_count": 7,
   "metadata": {},
   "outputs": [
    {
     "data": {
      "text/plain": [
       "{'race': 0.06125,\n",
       " 'gender': 0.3184,\n",
       " 'race_test_statistic': 0.1079299717180695,\n",
       " 'gender_test_statistic': -0.032621769241430565,\n",
       " 'race_std': 0.06937372370686934,\n",
       " 'gender_std': 0.06933698328805071,\n",
       " 'race_effect_size': 0.37930828509027725,\n",
       " 'gender_effect_size': -0.11464570175094553}"
      ]
     },
     "execution_count": 7,
     "metadata": {},
     "output_type": "execute_result"
    }
   ],
   "source": [
    "bias"
   ]
  },
  {
   "cell_type": "code",
   "execution_count": null,
   "metadata": {},
   "outputs": [],
   "source": []
  },
  {
   "cell_type": "code",
   "execution_count": null,
   "metadata": {},
   "outputs": [],
   "source": []
  }
 ],
 "metadata": {
  "kernelspec": {
   "display_name": "Python 3",
   "language": "python",
   "name": "python3"
  },
  "language_info": {
   "codemirror_mode": {
    "name": "ipython",
    "version": 3
   },
   "file_extension": ".py",
   "mimetype": "text/x-python",
   "name": "python",
   "nbconvert_exporter": "python",
   "pygments_lexer": "ipython3",
   "version": "3.7.5"
  }
 },
 "nbformat": 4,
 "nbformat_minor": 4
}
