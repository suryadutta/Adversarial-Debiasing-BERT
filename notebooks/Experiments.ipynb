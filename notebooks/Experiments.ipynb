{
 "cells": [
  {
   "cell_type": "code",
   "execution_count": 1,
   "metadata": {},
   "outputs": [],
   "source": [
    "from importlib import reload\n",
    "import sys\n",
    "\n",
    "src_path =   '../src' # change as needed\n",
    "sys.path.insert(0,src_path)\n",
    "\n",
    "max_length = 128\n",
    "\n",
    "train = True\n",
    "debias = False"
   ]
  },
  {
   "cell_type": "code",
   "execution_count": 2,
   "metadata": {},
   "outputs": [
    {
     "name": "stderr",
     "output_type": "stream",
     "text": [
      "INFO:absl:Using /tmp/tfhub_modules to cache modules.\n",
      "INFO:absl:Downloading TF-Hub Module 'https://tfhub.dev/google/bert_cased_L-12_H-768_A-12/1'.\n",
      "INFO:absl:Downloading https://tfhub.dev/google/bert_cased_L-12_H-768_A-12/1: 161.62MB\n",
      "INFO:absl:Downloading https://tfhub.dev/google/bert_cased_L-12_H-768_A-12/1: 321.62MB\n",
      "INFO:absl:Downloaded https://tfhub.dev/google/bert_cased_L-12_H-768_A-12/1, Total size: 417.36MB\n",
      "INFO:absl:Downloaded TF-Hub Module 'https://tfhub.dev/google/bert_cased_L-12_H-768_A-12/1'.\n",
      "100%|██████████| 397080/397080 [02:01<00:00, 3258.75it/s]\n"
     ]
    },
    {
     "name": "stdout",
     "output_type": "stream",
     "text": [
      "        tag  cat  occurences\n",
      "0    B-MISC    0         800\n",
      "1     I-LOC    1      328160\n",
      "2    I-MISC    2      139600\n",
      "3     I-ORG    3      237760\n",
      "4     I-PER    4      977800\n",
      "5         O    5     6661880\n",
      "6  [nerCLS]    6      397080\n",
      "7  [nerPAD]    7    39623065\n",
      "8  [nerSEP]    8      397080\n",
      "9    [nerX]    9     2063015\n",
      "\n",
      "                tag  cat  occurences\n",
      "0  AFRICAN-AMERICAN    0     4173000\n",
      "1          EUROPEAN    1     4173000\n",
      "2         [raceCLS]    2      397080\n",
      "3         [racePAD]    3    39623065\n",
      "4         [raceSEP]    4      397080\n",
      "5           [raceX]    5     2063015\n",
      "\n",
      "           tag  cat  occurences\n",
      "0       FEMALE    0     4173000\n",
      "1         MALE    1     4173000\n",
      "2  [genderCLS]    2      397080\n",
      "3  [genderPAD]    3    39623065\n",
      "4  [genderSEP]    4      397080\n",
      "5    [genderX]    5     2063015\n",
      "\n"
     ]
    }
   ],
   "source": [
    "import data_generator;reload(data_generator)\n",
    "\n",
    "train_data, val_data, test_data = data_generator.GetData(max_length)"
   ]
  },
  {
   "cell_type": "code",
   "execution_count": 3,
   "metadata": {
    "scrolled": false
   },
   "outputs": [
    {
     "name": "stdout",
     "output_type": "stream",
     "text": [
      "Model: \"model\"\n",
      "__________________________________________________________________________________________________\n",
      "Layer (type)                    Output Shape         Param #     Connected to                     \n",
      "==================================================================================================\n",
      "input_ids (InputLayer)          [(None, 128)]        0                                            \n",
      "__________________________________________________________________________________________________\n",
      "input_masks (InputLayer)        [(None, 128)]        0                                            \n",
      "__________________________________________________________________________________________________\n",
      "segment_ids (InputLayer)        [(None, 128)]        0                                            \n",
      "__________________________________________________________________________________________________\n",
      "bert_layer (BertLayer)          (None, None, 768)    108931396   input_ids[0][0]                  \n",
      "                                                                 input_masks[0][0]                \n",
      "                                                                 segment_ids[0][0]                \n",
      "__________________________________________________________________________________________________\n",
      "ner (Dense)                     (None, None, 10)     7690        bert_layer[0][0]                 \n",
      "__________________________________________________________________________________________________\n",
      "ner_labels_true (InputLayer)    [(None, 128, 10)]    0                                            \n",
      "__________________________________________________________________________________________________\n",
      "reshape (Reshape)               (None, 128, 10)      0           ner[0][0]                        \n",
      "__________________________________________________________________________________________________\n",
      "concatenate (Concatenate)       (None, 128, 20)      0           ner_labels_true[0][0]            \n",
      "                                                                 reshape[0][0]                    \n",
      "__________________________________________________________________________________________________\n",
      "genderDense1 (Dense)            (None, 128, 30)      630         concatenate[0][0]                \n",
      "__________________________________________________________________________________________________\n",
      "raceDense1 (Dense)              (None, 128, 30)      630         concatenate[0][0]                \n",
      "__________________________________________________________________________________________________\n",
      "dropout (Dropout)               (None, 128, 30)      0           genderDense1[0][0]               \n",
      "__________________________________________________________________________________________________\n",
      "dropout_2 (Dropout)             (None, 128, 30)      0           raceDense1[0][0]                 \n",
      "__________________________________________________________________________________________________\n",
      "genderDense2 (Dense)            (None, 128, 30)      930         dropout[0][0]                    \n",
      "__________________________________________________________________________________________________\n",
      "raceDense2 (Dense)              (None, 128, 30)      930         dropout_2[0][0]                  \n",
      "__________________________________________________________________________________________________\n",
      "dropout_1 (Dropout)             (None, 128, 30)      0           genderDense2[0][0]               \n",
      "__________________________________________________________________________________________________\n",
      "dropout_3 (Dropout)             (None, 128, 30)      0           raceDense2[0][0]                 \n",
      "__________________________________________________________________________________________________\n",
      "genderPred (Dense)              (None, 128, 6)       186         dropout_1[0][0]                  \n",
      "__________________________________________________________________________________________________\n",
      "racePred (Dense)                (None, 128, 6)       186         dropout_3[0][0]                  \n",
      "==================================================================================================\n",
      "Total params: 108,942,578\n",
      "Trainable params: 28,362,670\n",
      "Non-trainable params: 80,579,908\n",
      "__________________________________________________________________________________________________\n"
     ]
    }
   ],
   "source": [
    "import tensorflow as tf\n",
    "tf.logging.set_verbosity(tf.logging.ERROR)\n",
    "import model_utils; reload(model_utils)\n",
    "    \n",
    "config = tf.ConfigProto()\n",
    "config.gpu_options.allow_growth = True\n",
    "sess = tf.Session(config=config)\n",
    "\n",
    "model = model_utils.NER(max_length)\n",
    "    \n",
    "model.generate(bert_train_layers=4)"
   ]
  },
  {
   "cell_type": "code",
   "execution_count": 4,
   "metadata": {},
   "outputs": [
    {
     "data": {
      "application/vnd.jupyter.widget-view+json": {
       "model_id": "42090977e8a64d30b008aa4f32cb376d",
       "version_major": 2,
       "version_minor": 0
      },
      "text/plain": [
       "HBox(children=(IntProgress(value=0, max=8), HTML(value='')))"
      ]
     },
     "metadata": {},
     "output_type": "display_data"
    },
    {
     "data": {
      "application/vnd.jupyter.widget-view+json": {
       "model_id": "1742142f941d4ddfad0fb54110cd098a",
       "version_major": 2,
       "version_minor": 0
      },
      "text/plain": [
       "HBox(children=(IntProgress(value=0, max=8147), HTML(value='')))"
      ]
     },
     "metadata": {},
     "output_type": "display_data"
    },
    {
     "name": "stdout",
     "output_type": "stream",
     "text": [
      "\n",
      "acc_ner: 0.99; acc_ner_non_other: 0.97;  acc_gender: 0.50; acc_race: 0.50\n"
     ]
    },
    {
     "data": {
      "application/vnd.jupyter.widget-view+json": {
       "model_id": "59d79f11908344ca98c0d9a2b31b4f2e",
       "version_major": 2,
       "version_minor": 0
      },
      "text/plain": [
       "HBox(children=(IntProgress(value=0, max=8147), HTML(value='')))"
      ]
     },
     "metadata": {},
     "output_type": "display_data"
    },
    {
     "name": "stdout",
     "output_type": "stream",
     "text": [
      "\n",
      "acc_ner: 0.99; acc_ner_non_other: 0.97;  acc_gender: 0.50; acc_race: 0.50\n"
     ]
    },
    {
     "data": {
      "application/vnd.jupyter.widget-view+json": {
       "model_id": "4b403e22023f46f88867b5f2869b9e0d",
       "version_major": 2,
       "version_minor": 0
      },
      "text/plain": [
       "HBox(children=(IntProgress(value=0, max=8147), HTML(value='')))"
      ]
     },
     "metadata": {},
     "output_type": "display_data"
    },
    {
     "name": "stdout",
     "output_type": "stream",
     "text": [
      "\n",
      "acc_ner: 0.99; acc_ner_non_other: 0.97;  acc_gender: 0.50; acc_race: 0.50\n"
     ]
    },
    {
     "data": {
      "application/vnd.jupyter.widget-view+json": {
       "model_id": "1509a20934064e3488c0e193aaa99d7e",
       "version_major": 2,
       "version_minor": 0
      },
      "text/plain": [
       "HBox(children=(IntProgress(value=0, max=8147), HTML(value='')))"
      ]
     },
     "metadata": {},
     "output_type": "display_data"
    },
    {
     "name": "stdout",
     "output_type": "stream",
     "text": [
      "\n",
      "acc_ner: 0.99; acc_ner_non_other: 0.97;  acc_gender: 0.50; acc_race: 0.50\n"
     ]
    },
    {
     "data": {
      "application/vnd.jupyter.widget-view+json": {
       "model_id": "c18dc45d548d4e609ef4af9e14872616",
       "version_major": 2,
       "version_minor": 0
      },
      "text/plain": [
       "HBox(children=(IntProgress(value=0, max=8147), HTML(value='')))"
      ]
     },
     "metadata": {},
     "output_type": "display_data"
    },
    {
     "name": "stdout",
     "output_type": "stream",
     "text": [
      "\n",
      "acc_ner: 0.99; acc_ner_non_other: 0.98;  acc_gender: 0.50; acc_race: 0.50\n"
     ]
    },
    {
     "data": {
      "application/vnd.jupyter.widget-view+json": {
       "model_id": "8119275a1a244d98931e2fdacf04320e",
       "version_major": 2,
       "version_minor": 0
      },
      "text/plain": [
       "HBox(children=(IntProgress(value=0, max=8147), HTML(value='')))"
      ]
     },
     "metadata": {},
     "output_type": "display_data"
    },
    {
     "name": "stdout",
     "output_type": "stream",
     "text": [
      "\n",
      "acc_ner: 0.99; acc_ner_non_other: 0.98;  acc_gender: 0.50; acc_race: 0.50\n"
     ]
    },
    {
     "data": {
      "application/vnd.jupyter.widget-view+json": {
       "model_id": "34830a7727dc40dbbab739eb8d2d3507",
       "version_major": 2,
       "version_minor": 0
      },
      "text/plain": [
       "HBox(children=(IntProgress(value=0, max=8147), HTML(value='')))"
      ]
     },
     "metadata": {},
     "output_type": "display_data"
    },
    {
     "name": "stdout",
     "output_type": "stream",
     "text": [
      "\n",
      "acc_ner: 0.99; acc_ner_non_other: 0.98;  acc_gender: 0.50; acc_race: 0.50\n"
     ]
    },
    {
     "data": {
      "application/vnd.jupyter.widget-view+json": {
       "model_id": "451e15cb11664b3896655488cfa62963",
       "version_major": 2,
       "version_minor": 0
      },
      "text/plain": [
       "HBox(children=(IntProgress(value=0, max=8147), HTML(value='')))"
      ]
     },
     "metadata": {},
     "output_type": "display_data"
    },
    {
     "name": "stdout",
     "output_type": "stream",
     "text": [
      "\n",
      "acc_ner: 0.99; acc_ner_non_other: 0.98;  acc_gender: 0.50; acc_race: 0.50\n",
      "\n"
     ]
    }
   ],
   "source": [
    "if train:\n",
    "\n",
    "    model.fit(\n",
    "        sess,\n",
    "        train_data,\n",
    "        val_data,\n",
    "        epochs=8,\n",
    "        batch_size=32,\n",
    "        debias=debias\n",
    "    ) \n",
    "    \n",
    "else: \n",
    "    model_utils.initialize_vars(sess)"
   ]
  },
  {
   "cell_type": "code",
   "execution_count": 5,
   "metadata": {},
   "outputs": [
    {
     "data": {
      "application/vnd.jupyter.widget-view+json": {
       "model_id": "1667caafe65440bbb8b3abc0f809c9a0",
       "version_major": 2,
       "version_minor": 0
      },
      "text/plain": [
       "HBox(children=(IntProgress(value=1, bar_style='info', max=1), HTML(value='')))"
      ]
     },
     "metadata": {},
     "output_type": "display_data"
    },
    {
     "name": "stdout",
     "output_type": "stream",
     "text": [
      "\n"
     ]
    },
    {
     "data": {
      "application/vnd.jupyter.widget-view+json": {
       "model_id": "fe43188bdac04b26af4d1a059668d247",
       "version_major": 2,
       "version_minor": 0
      },
      "text/plain": [
       "HBox(children=(IntProgress(value=0, max=10000), HTML(value='')))"
      ]
     },
     "metadata": {},
     "output_type": "display_data"
    },
    {
     "name": "stdout",
     "output_type": "stream",
     "text": [
      "\n"
     ]
    }
   ],
   "source": [
    "bias = model.getBiasedPValues(test_data, num_iterations=10000)"
   ]
  },
  {
   "cell_type": "code",
   "execution_count": 6,
   "metadata": {},
   "outputs": [
    {
     "data": {
      "text/plain": [
       "{'race': 0.0,\n",
       " 'gender': 0.2807,\n",
       " 'race_test_statistic': 0.3842757336007788,\n",
       " 'gender_test_statistic': -0.05742955995490251,\n",
       " 'race_std': 0.09622614605055416,\n",
       " 'gender_std': 0.09672796008075966,\n",
       " 'race_effect_size': 1.1134265250874718,\n",
       " 'gender_effect_size': -0.16640029485785918}"
      ]
     },
     "execution_count": 6,
     "metadata": {},
     "output_type": "execute_result"
    }
   ],
   "source": [
    "bias"
   ]
  },
  {
   "cell_type": "code",
   "execution_count": 7,
   "metadata": {},
   "outputs": [],
   "source": [
    "sess.close()"
   ]
  },
  {
   "cell_type": "code",
   "execution_count": null,
   "metadata": {},
   "outputs": [],
   "source": []
  },
  {
   "cell_type": "code",
   "execution_count": null,
   "metadata": {},
   "outputs": [],
   "source": []
  }
 ],
 "metadata": {
  "kernelspec": {
   "display_name": "Python 3",
   "language": "python",
   "name": "python3"
  },
  "language_info": {
   "codemirror_mode": {
    "name": "ipython",
    "version": 3
   },
   "file_extension": ".py",
   "mimetype": "text/x-python",
   "name": "python",
   "nbconvert_exporter": "python",
   "pygments_lexer": "ipython3",
   "version": "3.7.5"
  }
 },
 "nbformat": 4,
 "nbformat_minor": 4
}
