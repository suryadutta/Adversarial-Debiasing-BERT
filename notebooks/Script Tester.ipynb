{
 "cells": [
  {
   "cell_type": "code",
   "execution_count": 1,
   "metadata": {},
   "outputs": [],
   "source": [
    "from importlib import reload\n",
    "import sys\n",
    "\n",
    "src_path =   '../src' # change as needed\n",
    "sys.path.insert(0,src_path)\n",
    "\n",
    "max_length = 128"
   ]
  },
  {
   "cell_type": "code",
   "execution_count": 2,
   "metadata": {},
   "outputs": [
    {
     "name": "stderr",
     "output_type": "stream",
     "text": [
      "INFO:absl:Using /tmp/tfhub_modules to cache modules.\n",
      "100%|██████████| 30000/30000 [00:09<00:00, 3280.67it/s]\n"
     ]
    },
    {
     "name": "stdout",
     "output_type": "stream",
     "text": [
      "        tag  cat  occurences\n",
      "0    B-MISC    0          52\n",
      "1     I-LOC    1       25078\n",
      "2    I-MISC    2       10325\n",
      "3     I-ORG    3       18131\n",
      "4     I-PER    4       83425\n",
      "5         O    5      526263\n",
      "6  [nerCLS]    6       30000\n",
      "7  [nerPAD]    7     2955780\n",
      "8  [nerSEP]    8       30000\n",
      "9    [nerX]    9      160946\n",
      "\n",
      "                tag  cat  occurences\n",
      "0  AFRICAN-AMERICAN    0      332699\n",
      "1          EUROPEAN    1      330575\n",
      "2         [raceCLS]    2       30000\n",
      "3         [racePAD]    3     2955780\n",
      "4         [raceSEP]    4       30000\n",
      "5           [raceX]    5      160946\n",
      "\n",
      "           tag  cat  occurences\n",
      "0       FEMALE    0      330528\n",
      "1         MALE    1      332746\n",
      "2  [genderCLS]    2       30000\n",
      "3  [genderPAD]    3     2955780\n",
      "4  [genderSEP]    4       30000\n",
      "5    [genderX]    5      160946\n",
      "\n"
     ]
    }
   ],
   "source": [
    "import data_generator;reload(data_generator)\n",
    "\n",
    "train_data, val_data, test_data = data_generator.GetData(max_length)"
   ]
  },
  {
   "cell_type": "code",
   "execution_count": 3,
   "metadata": {
    "scrolled": false
   },
   "outputs": [
    {
     "name": "stdout",
     "output_type": "stream",
     "text": [
      "Model: \"model\"\n",
      "__________________________________________________________________________________________________\n",
      "Layer (type)                    Output Shape         Param #     Connected to                     \n",
      "==================================================================================================\n",
      "input_ids (InputLayer)          [(None, 128)]        0                                            \n",
      "__________________________________________________________________________________________________\n",
      "input_masks (InputLayer)        [(None, 128)]        0                                            \n",
      "__________________________________________________________________________________________________\n",
      "segment_ids (InputLayer)        [(None, 128)]        0                                            \n",
      "__________________________________________________________________________________________________\n",
      "bert_layer (BertLayer)          (None, None, 768)    108931396   input_ids[0][0]                  \n",
      "                                                                 input_masks[0][0]                \n",
      "                                                                 segment_ids[0][0]                \n",
      "__________________________________________________________________________________________________\n",
      "ner (Dense)                     (None, None, 10)     7690        bert_layer[0][0]                 \n",
      "__________________________________________________________________________________________________\n",
      "ner_labels_true (InputLayer)    [(None, 128, 10)]    0                                            \n",
      "__________________________________________________________________________________________________\n",
      "reshape (Reshape)               (None, 128, 10)      0           ner[0][0]                        \n",
      "__________________________________________________________________________________________________\n",
      "concatenate (Concatenate)       (None, 128, 20)      0           ner_labels_true[0][0]            \n",
      "                                                                 reshape[0][0]                    \n",
      "__________________________________________________________________________________________________\n",
      "genderDense1 (Dense)            (None, 128, 30)      630         concatenate[0][0]                \n",
      "__________________________________________________________________________________________________\n",
      "raceDense1 (Dense)              (None, 128, 30)      630         concatenate[0][0]                \n",
      "__________________________________________________________________________________________________\n",
      "dropout (Dropout)               (None, 128, 30)      0           genderDense1[0][0]               \n",
      "__________________________________________________________________________________________________\n",
      "dropout_2 (Dropout)             (None, 128, 30)      0           raceDense1[0][0]                 \n",
      "__________________________________________________________________________________________________\n",
      "genderDense2 (Dense)            (None, 128, 30)      930         dropout[0][0]                    \n",
      "__________________________________________________________________________________________________\n",
      "raceDense2 (Dense)              (None, 128, 30)      930         dropout_2[0][0]                  \n",
      "__________________________________________________________________________________________________\n",
      "dropout_1 (Dropout)             (None, 128, 30)      0           genderDense2[0][0]               \n",
      "__________________________________________________________________________________________________\n",
      "dropout_3 (Dropout)             (None, 128, 30)      0           raceDense2[0][0]                 \n",
      "__________________________________________________________________________________________________\n",
      "genderPred (Dense)              (None, 128, 6)       186         dropout_1[0][0]                  \n",
      "__________________________________________________________________________________________________\n",
      "racePred (Dense)                (None, 128, 6)       186         dropout_3[0][0]                  \n",
      "==================================================================================================\n",
      "Total params: 108,942,578\n",
      "Trainable params: 28,362,670\n",
      "Non-trainable params: 80,579,908\n",
      "__________________________________________________________________________________________________\n"
     ]
    }
   ],
   "source": [
    "import tensorflow as tf\n",
    "tf.logging.set_verbosity(tf.logging.ERROR)\n",
    "import model_utils; reload(model_utils)\n",
    "    \n",
    "config = tf.ConfigProto()\n",
    "config.gpu_options.allow_growth = True\n",
    "sess = tf.Session(config=config)\n",
    "\n",
    "model = model_utils.NER(max_length)\n",
    "    \n",
    "model.generate(bert_train_layers=4)"
   ]
  },
  {
   "cell_type": "code",
   "execution_count": 4,
   "metadata": {},
   "outputs": [],
   "source": [
    "train = False\n",
    "debias = False\n",
    "\n",
    "if train:\n",
    "\n",
    "    model.fit(\n",
    "        sess,\n",
    "        train_data,\n",
    "        val_data,\n",
    "        epochs=8,\n",
    "        batch_size=32,\n",
    "        debias=debias\n",
    "    ) \n",
    "    \n",
    "else: \n",
    "    model_utils.initialize_vars(sess)"
   ]
  },
  {
   "cell_type": "code",
   "execution_count": 5,
   "metadata": {},
   "outputs": [
    {
     "data": {
      "application/vnd.jupyter.widget-view+json": {
       "model_id": "8fd2c475834a4c0385cf894c94076934",
       "version_major": 2,
       "version_minor": 0
      },
      "text/plain": [
       "HBox(children=(IntProgress(value=1, bar_style='info', max=1), HTML(value='')))"
      ]
     },
     "metadata": {},
     "output_type": "display_data"
    },
    {
     "name": "stdout",
     "output_type": "stream",
     "text": [
      "\n"
     ]
    },
    {
     "data": {
      "application/vnd.jupyter.widget-view+json": {
       "model_id": "37b0f2b5f27546c8b4d179637f913c71",
       "version_major": 2,
       "version_minor": 0
      },
      "text/plain": [
       "HBox(children=(IntProgress(value=0, max=1000), HTML(value='')))"
      ]
     },
     "metadata": {},
     "output_type": "display_data"
    },
    {
     "name": "stdout",
     "output_type": "stream",
     "text": [
      "\n"
     ]
    }
   ],
   "source": [
    "bias = model.getBiasedPValues(test_data, num_iterations=10000)"
   ]
  },
  {
   "cell_type": "code",
   "execution_count": 6,
   "metadata": {},
   "outputs": [
    {
     "data": {
      "text/plain": [
       "{'race': 0.1085,\n",
       " 'gender': 0.055,\n",
       " 'race_test_statistic': 0.1308506342138156,\n",
       " 'gender_test_statistic': 0.16482347207798972,\n",
       " 'race_std': 0.10694999203201726,\n",
       " 'gender_std': 0.10619998313630895,\n",
       " 'race_effect_size': 0.385915253004161,\n",
       " 'gender_effect_size': 0.4861106888031099}"
      ]
     },
     "execution_count": 6,
     "metadata": {},
     "output_type": "execute_result"
    }
   ],
   "source": [
    "bias"
   ]
  },
  {
   "cell_type": "code",
   "execution_count": 7,
   "metadata": {},
   "outputs": [],
   "source": [
    "sess.close()"
   ]
  },
  {
   "cell_type": "code",
   "execution_count": null,
   "metadata": {},
   "outputs": [],
   "source": []
  },
  {
   "cell_type": "code",
   "execution_count": null,
   "metadata": {},
   "outputs": [],
   "source": []
  }
 ],
 "metadata": {
  "kernelspec": {
   "display_name": "Python 3",
   "language": "python",
   "name": "python3"
  },
  "language_info": {
   "codemirror_mode": {
    "name": "ipython",
    "version": 3
   },
   "file_extension": ".py",
   "mimetype": "text/x-python",
   "name": "python",
   "nbconvert_exporter": "python",
   "pygments_lexer": "ipython3",
   "version": "3.7.5"
  }
 },
 "nbformat": 4,
 "nbformat_minor": 4
}
