{
 "cells": [
  {
   "cell_type": "code",
   "execution_count": 1,
   "metadata": {},
   "outputs": [],
   "source": [
    "from importlib import reload\n",
    "import sys\n",
    "\n",
    "src_path =   '../src' # change as needed\n",
    "sys.path.insert(0,src_path)\n",
    "\n",
    "max_length = 128"
   ]
  },
  {
   "cell_type": "code",
   "execution_count": 2,
   "metadata": {},
   "outputs": [
    {
     "name": "stderr",
     "output_type": "stream",
     "text": [
      "INFO:absl:Using /tmp/tfhub_modules to cache modules.\n",
      "100%|██████████| 397080/397080 [02:03<00:00, 3212.44it/s]\n"
     ]
    },
    {
     "name": "stdout",
     "output_type": "stream",
     "text": [
      "        tag  cat  occurences\n",
      "0    B-MISC    0         800\n",
      "1     I-LOC    1      328160\n",
      "2    I-MISC    2      139600\n",
      "3     I-ORG    3      237760\n",
      "4     I-PER    4      977800\n",
      "5         O    5     6661880\n",
      "6  [nerCLS]    6      397080\n",
      "7  [nerPAD]    7    39623065\n",
      "8  [nerSEP]    8      397080\n",
      "9    [nerX]    9     2063015\n",
      "\n",
      "                tag  cat  occurences\n",
      "0  AFRICAN-AMERICAN    0      436788\n",
      "1          EUROPEAN    1      208467\n",
      "2         [raceCLS]    2      397080\n",
      "3         [racePAD]    3    39623065\n",
      "4         [raceSEP]    4      397080\n",
      "5           [raceX]    5     9763760\n",
      "\n",
      "           tag  cat  occurences\n",
      "0       FEMALE    0      367299\n",
      "1         MALE    1      277956\n",
      "2  [genderCLS]    2      397080\n",
      "3  [genderPAD]    3    39623065\n",
      "4  [genderSEP]    4      397080\n",
      "5    [genderX]    5     9763760\n",
      "\n"
     ]
    }
   ],
   "source": [
    "import data_generator;reload(data_generator)\n",
    "\n",
    "train_data, val_data, test_data = data_generator.GetData(max_length)"
   ]
  },
  {
   "cell_type": "code",
   "execution_count": null,
   "metadata": {
    "scrolled": false
   },
   "outputs": [],
   "source": [
    "import tensorflow as tf\n",
    "tf.logging.set_verbosity(tf.logging.ERROR)\n",
    "import model_utils; reload(model_utils)\n",
    "    \n",
    "config = tf.ConfigProto()\n",
    "config.gpu_options.allow_growth = True\n",
    "sess = tf.Session(config=config)\n",
    "\n",
    "model = model_utils.NER(max_length)\n",
    "    \n",
    "model.generate(bert_train_layers=4)"
   ]
  },
  {
   "cell_type": "code",
   "execution_count": null,
   "metadata": {
    "scrolled": true
   },
   "outputs": [],
   "source": [
    "model.fit(\n",
    "    sess,\n",
    "    train_data,\n",
    "    val_data,\n",
    "    epochs=8,\n",
    "    batch_size=32,\n",
    "    debias=True\n",
    ")"
   ]
  },
  {
   "cell_type": "code",
   "execution_count": null,
   "metadata": {},
   "outputs": [],
   "source": [
    "bias = model.getBiasedPValues(test_data, num_iterations=1000)"
   ]
  },
  {
   "cell_type": "code",
   "execution_count": null,
   "metadata": {},
   "outputs": [],
   "source": [
    "bias"
   ]
  },
  {
   "cell_type": "code",
   "execution_count": null,
   "metadata": {},
   "outputs": [],
   "source": [
    "sess.close()"
   ]
  },
  {
   "cell_type": "code",
   "execution_count": null,
   "metadata": {},
   "outputs": [],
   "source": []
  },
  {
   "cell_type": "code",
   "execution_count": null,
   "metadata": {},
   "outputs": [],
   "source": []
  }
 ],
 "metadata": {
  "kernelspec": {
   "display_name": "Python 3",
   "language": "python",
   "name": "python3"
  },
  "language_info": {
   "codemirror_mode": {
    "name": "ipython",
    "version": 3
   },
   "file_extension": ".py",
   "mimetype": "text/x-python",
   "name": "python",
   "nbconvert_exporter": "python",
   "pygments_lexer": "ipython3",
   "version": "3.7.5"
  }
 },
 "nbformat": 4,
 "nbformat_minor": 4
}
