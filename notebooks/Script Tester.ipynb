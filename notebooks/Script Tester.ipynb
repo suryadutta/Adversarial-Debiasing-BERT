{
 "cells": [
  {
   "cell_type": "code",
   "execution_count": 1,
   "metadata": {},
   "outputs": [],
   "source": [
    "from importlib import reload\n",
    "import sys\n",
    "\n",
    "src_path =   '../src' # change as needed\n",
    "sys.path.insert(0,src_path)\n",
    "\n",
    "max_length = 128"
   ]
  },
  {
   "cell_type": "code",
   "execution_count": 2,
   "metadata": {},
   "outputs": [
    {
     "name": "stderr",
     "output_type": "stream",
     "text": [
      "INFO:absl:Using /tmp/tfhub_modules to cache modules.\n",
      "100%|██████████| 3000/3000 [00:00<00:00, 3382.13it/s]\n"
     ]
    },
    {
     "name": "stdout",
     "output_type": "stream",
     "text": [
      "        tag  cat  occurences\n",
      "0    B-MISC    0           5\n",
      "1     I-LOC    1        2560\n",
      "2    I-MISC    2        1023\n",
      "3     I-ORG    3        1774\n",
      "4     I-PER    4        8135\n",
      "5         O    5       52468\n",
      "6  [nerCLS]    6        3000\n",
      "7  [nerPAD]    7      295967\n",
      "8  [nerSEP]    8        3000\n",
      "9    [nerX]    9       16068\n",
      "\n",
      "                tag  cat  occurences\n",
      "0  AFRICAN-AMERICAN    0       43110\n",
      "1          EUROPEAN    1       38923\n",
      "2         [raceCLS]    2        3000\n",
      "3         [racePAD]    3      295967\n",
      "4         [raceSEP]    4        3000\n",
      "\n",
      "           tag  cat  occurences\n",
      "0       FEMALE    0       40783\n",
      "1         MALE    1       41250\n",
      "2  [genderCLS]    2        3000\n",
      "3  [genderPAD]    3      295967\n",
      "4  [genderSEP]    4        3000\n",
      "\n"
     ]
    }
   ],
   "source": [
    "import data_generator;reload(data_generator)\n",
    "\n",
    "train_data, val_data, test_data = data_generator.GetData(max_length, sample=1000)"
   ]
  },
  {
   "cell_type": "code",
   "execution_count": 3,
   "metadata": {
    "scrolled": false
   },
   "outputs": [
    {
     "name": "stdout",
     "output_type": "stream",
     "text": [
      "Model: \"model\"\n",
      "__________________________________________________________________________________________________\n",
      "Layer (type)                    Output Shape         Param #     Connected to                     \n",
      "==================================================================================================\n",
      "input_ids (InputLayer)          [(None, 128)]        0                                            \n",
      "__________________________________________________________________________________________________\n",
      "input_masks (InputLayer)        [(None, 128)]        0                                            \n",
      "__________________________________________________________________________________________________\n",
      "segment_ids (InputLayer)        [(None, 128)]        0                                            \n",
      "__________________________________________________________________________________________________\n",
      "bert_layer (BertLayer)          (None, None, 768)    108931396   input_ids[0][0]                  \n",
      "                                                                 input_masks[0][0]                \n",
      "                                                                 segment_ids[0][0]                \n",
      "__________________________________________________________________________________________________\n",
      "ner (Dense)                     (None, None, 10)     7690        bert_layer[0][0]                 \n",
      "__________________________________________________________________________________________________\n",
      "ner_labels_true (InputLayer)    [(None, 128, 10)]    0                                            \n",
      "__________________________________________________________________________________________________\n",
      "reshape (Reshape)               (None, 128, 10)      0           ner[0][0]                        \n",
      "__________________________________________________________________________________________________\n",
      "concatenate (Concatenate)       (None, 128, 20)      0           ner_labels_true[0][0]            \n",
      "                                                                 reshape[0][0]                    \n",
      "__________________________________________________________________________________________________\n",
      "genderDense1 (Dense)            (None, 128, 60)      1260        concatenate[0][0]                \n",
      "__________________________________________________________________________________________________\n",
      "raceDense1 (Dense)              (None, 128, 60)      1260        concatenate[0][0]                \n",
      "__________________________________________________________________________________________________\n",
      "dropout (Dropout)               (None, 128, 60)      0           genderDense1[0][0]               \n",
      "__________________________________________________________________________________________________\n",
      "dropout_2 (Dropout)             (None, 128, 60)      0           raceDense1[0][0]                 \n",
      "__________________________________________________________________________________________________\n",
      "genderDense2 (Dense)            (None, 128, 60)      3660        dropout[0][0]                    \n",
      "__________________________________________________________________________________________________\n",
      "raceDense2 (Dense)              (None, 128, 60)      3660        dropout_2[0][0]                  \n",
      "__________________________________________________________________________________________________\n",
      "dropout_1 (Dropout)             (None, 128, 60)      0           genderDense2[0][0]               \n",
      "__________________________________________________________________________________________________\n",
      "dropout_3 (Dropout)             (None, 128, 60)      0           raceDense2[0][0]                 \n",
      "__________________________________________________________________________________________________\n",
      "genderPred (Dense)              (None, 128, 6)       366         dropout_1[0][0]                  \n",
      "__________________________________________________________________________________________________\n",
      "racePred (Dense)                (None, 128, 6)       366         dropout_3[0][0]                  \n",
      "==================================================================================================\n",
      "Total params: 108,949,658\n",
      "Trainable params: 28,369,750\n",
      "Non-trainable params: 80,579,908\n",
      "__________________________________________________________________________________________________\n"
     ]
    }
   ],
   "source": [
    "import tensorflow as tf\n",
    "tf.logging.set_verbosity(tf.logging.ERROR)\n",
    "import model_utils; reload(model_utils)\n",
    "    \n",
    "config = tf.ConfigProto()\n",
    "config.gpu_options.allow_growth = True\n",
    "sess = tf.Session(config=config)\n",
    "\n",
    "model = model_utils.NER(max_length)\n",
    "    \n",
    "model.generate(bert_train_layers=4)"
   ]
  },
  {
   "cell_type": "code",
   "execution_count": null,
   "metadata": {},
   "outputs": [
    {
     "data": {
      "application/vnd.jupyter.widget-view+json": {
       "model_id": "90946de76bb84fb59196fbf0aabbeda7",
       "version_major": 2,
       "version_minor": 0
      },
      "text/plain": [
       "HBox(children=(IntProgress(value=0, max=8), HTML(value='')))"
      ]
     },
     "metadata": {},
     "output_type": "display_data"
    },
    {
     "data": {
      "application/vnd.jupyter.widget-view+json": {
       "model_id": "e1bc483f1fc847b09b3d4dc2590056fa",
       "version_major": 2,
       "version_minor": 0
      },
      "text/plain": [
       "HBox(children=(IntProgress(value=0, max=31), HTML(value='')))"
      ]
     },
     "metadata": {},
     "output_type": "display_data"
    },
    {
     "name": "stdout",
     "output_type": "stream",
     "text": [
      "\n",
      "acc_ner: 0.87; acc_ner_non_other: 0.36;  acc_gender: 0.50; acc_race: 0.53\n"
     ]
    },
    {
     "data": {
      "application/vnd.jupyter.widget-view+json": {
       "model_id": "61f5cde1d1c843e48f2b20dcafd9c7e6",
       "version_major": 2,
       "version_minor": 0
      },
      "text/plain": [
       "HBox(children=(IntProgress(value=0, max=31), HTML(value='')))"
      ]
     },
     "metadata": {},
     "output_type": "display_data"
    },
    {
     "name": "stdout",
     "output_type": "stream",
     "text": [
      "\n"
     ]
    }
   ],
   "source": [
    "train = True\n",
    "debias = False\n",
    "\n",
    "if train:\n",
    "\n",
    "    model.fit(\n",
    "        sess,\n",
    "        train_data,\n",
    "        val_data,\n",
    "        epochs=8,\n",
    "        batch_size=32,\n",
    "        debias=debias\n",
    "    ) \n",
    "    \n",
    "else: \n",
    "    model_utils.initialize_vars(sess)"
   ]
  },
  {
   "cell_type": "code",
   "execution_count": null,
   "metadata": {},
   "outputs": [],
   "source": [
    "bias = model.getBiasedPValues(test_data, num_iterations=10000)"
   ]
  },
  {
   "cell_type": "code",
   "execution_count": null,
   "metadata": {},
   "outputs": [],
   "source": [
    "bias"
   ]
  },
  {
   "cell_type": "code",
   "execution_count": null,
   "metadata": {},
   "outputs": [],
   "source": [
    "sess.close()"
   ]
  },
  {
   "cell_type": "code",
   "execution_count": null,
   "metadata": {},
   "outputs": [],
   "source": []
  },
  {
   "cell_type": "code",
   "execution_count": null,
   "metadata": {},
   "outputs": [],
   "source": []
  }
 ],
 "metadata": {
  "kernelspec": {
   "display_name": "Python 3",
   "language": "python",
   "name": "python3"
  },
  "language_info": {
   "codemirror_mode": {
    "name": "ipython",
    "version": 3
   },
   "file_extension": ".py",
   "mimetype": "text/x-python",
   "name": "python",
   "nbconvert_exporter": "python",
   "pygments_lexer": "ipython3",
   "version": "3.7.5"
  }
 },
 "nbformat": 4,
 "nbformat_minor": 4
}
